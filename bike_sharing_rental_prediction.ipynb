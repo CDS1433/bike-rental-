{
  "cells": [
    {
      "metadata": {
        "_uuid": "90ba070652a8da5de93615e840b0ad5c2a7ac185",
        "id": "FSv7bgAn3-B-"
      },
      "cell_type": "markdown",
      "source": [
        "# Introduction\n",
        "In this artical we’re going to model the Bike Sharing Dataset from the Capital Bikeshare System using regression modeling and learn how variables such as temperature, wind, and time affect bicycle rentals in the mid-Atlantic region of the United States\n",
        "\n",
        "The data is graciously made available through the UCI Machine Learning Repository of the University of California, Irvine (https://archive.ics.uci.edu/ml/datasets/bike+sharing+dataset).\n",
        "\n",
        "This project is done while reading and learning the book\n",
        "Quickly Turn Python ML Ideas into Web Applications on the Serverless Cloud\n",
        "Authors: Amunategui, Manuel, Roopaei, Mehdi"
      ]
    },
    {
      "metadata": {
        "_uuid": "bf4ee7511745b57a2b6770a5ae2cfa376e0def54",
        "id": "b_cZ-h203-CK"
      },
      "cell_type": "markdown",
      "source": [
        "# Understanding Bike Rental Demand with Regression Coefficients\n",
        "\n",
        "here we will be building a simple and intutive way of interacting with environment factors such as temperature, wind, time and weather and anylyse how they efect the bike rentals "
      ]
    },
    {
      "metadata": {
        "_uuid": "bb9eab630dacc2340fba03f738105d96acabcb9f",
        "id": "2kql-Kcs3-CL"
      },
      "cell_type": "markdown",
      "source": [
        "# Exploring bike sharing dataset\n",
        "\n",
        "Bike sharing is a very demaded and popular but still a new and experimental process.Using a mobile phone, a rider can sign up online, download a phone application, locate bicycles, and rent one. their are many application in appstore and play store like\n",
        "Wheelstreet\n",
        "WICKEDRIDE\n",
        "Zoomcar for pedel\n",
        "and many more\n",
        "\n",
        "This model creates an entire ecosystem where nobody needs to talk or meet in person to start enjoying this service\n",
        "\n",
        "According to Hadi Fanaee-T of the Laboratory of Artificial Intelligence and Decision Support (from the liner notes on the UCI Machine Learning Repository’s Dataset Information):\n",
        "\n",
        "on italics\n",
        "\n",
        "Opposed to other transport services such as bus or subway, the duration of travel, departure and arrival position is explicitly recorded in these systems. This feature turns [a] bike sharing system into a virtual sensor network that can be used for sensing mobility in the city. Hence, it is expected that most of [the] important events in the city could be detected via monitoring these data.1\n",
        "\n",
        "The download contains two datasets: “hour.csv” and “day.csv.” \n",
        "Attribute Information:\n",
        "\n",
        "Both hour.csv and day.csv have the following fields, except hr which is not available in day.csv\n",
        "\n",
        "- instant: record index\n",
        "- dteday : date\n",
        "- season : season (1:springer, 2:summer, 3:fall, 4:winter)\n",
        "- yr : year (0: 2011, 1:2012)\n",
        "- mnth : month ( 1 to 12)\n",
        "- hr : hour (0 to 23)\n",
        "- holiday : weather day is holiday or not (extracted from [Web Link])\n",
        "- weekday : day of the week\n",
        "- workingday : if day is neither weekend nor holiday is 1, otherwise is 0.\n",
        "+ weathersit : \n",
        "- 1: Clear, Few clouds, Partly cloudy, Partly cloudy\n",
        "- 2: Mist + Cloudy, Mist + Broken clouds, Mist + Few clouds, Mist\n",
        "- 3: Light Snow, Light Rain + Thunderstorm + Scattered clouds, Light Rain + Scattered clouds\n",
        "- 4: Heavy Rain + Ice Pallets + Thunderstorm + Mist, Snow + Fog\n",
        "- temp : Normalized temperature in Celsius. The values are derived via (t-t_min)/(t_max-t_min), t_min=-8, t_max=+39 (only in hourly scale)\n",
        "- atemp: Normalized feeling temperature in Celsius. The values are derived via (t-t_min)/(t_max-t_min), t_min=-16, t_max=+50 (only in hourly scale)\n",
        "- hum: Normalized humidity. The values are divided to 100 (max)\n",
        "- windspeed: Normalized wind speed. The values are divided to 67 (max)\n",
        "- casual: count of casual users\n",
        "- registered: count of registered users\n",
        "- cnt: count of total rental bikes including both casual and registered"
      ]
    },
    {
      "metadata": {
        "trusted": true,
        "_uuid": "f4ec17fbbd61e68f83cbd3b6976a658b85805a1b",
        "id": "lyDLUW2R3-CO"
      },
      "cell_type": "code",
      "source": [
        "import pandas as pd\n",
        "import numpy as np\n",
        "import matplotlib.pyplot as plt\n",
        "%matplotlib inline\n",
        "import pickle\n",
        "import warnings\n",
        "warnings.filterwarnings('ignore')\n",
        "\n",
        "import os\n",
        "\n",
        "from sklearn.model_selection import train_test_split\n",
        "from sklearn.metrics import mean_squared_error, r2_score\n",
        "from math import sqrt"
      ],
      "execution_count": 3,
      "outputs": []
    },
    {
      "metadata": {
        "trusted": true,
        "_uuid": "4be6ddb6c6626e111514afb93992463bb6052fbc",
        "id": "LaP7Wjpy3-CR"
      },
      "cell_type": "code",
      "source": [
        "# reading the data\n",
        "bikes_hour_df_raws = pd.read_csv('/content/hour.csv')\n",
        "bike_day_df_raws = pd.read_csv('/content/day.csv')"
      ],
      "execution_count": 4,
      "outputs": []
    },
    {
      "metadata": {
        "_uuid": "cd6c221a7f321f31e584a4aaa79b003a94263c18",
        "id": "goKuMXyy3-CS"
      },
      "cell_type": "markdown",
      "source": [
        "## Exploring the Data"
      ]
    },
    {
      "metadata": {
        "trusted": true,
        "_uuid": "ce757250ead24f299404039589183c82d71987e1",
        "colab": {
          "base_uri": "https://localhost:8080/",
          "height": 357
        },
        "id": "Mdtr3T9e3-CT",
        "outputId": "0eeb85bd-e132-4ab9-bf31-c53ed3a2f5d8"
      },
      "cell_type": "code",
      "source": [
        "# First Rows of bike rental hour dataset\n",
        "bikes_hour_df_raws.head()"
      ],
      "execution_count": 5,
      "outputs": [
        {
          "output_type": "execute_result",
          "data": {
            "text/html": [
              "\n",
              "  <div id=\"df-02bbc70d-20db-4339-b26f-728a72e2319d\">\n",
              "    <div class=\"colab-df-container\">\n",
              "      <div>\n",
              "<style scoped>\n",
              "    .dataframe tbody tr th:only-of-type {\n",
              "        vertical-align: middle;\n",
              "    }\n",
              "\n",
              "    .dataframe tbody tr th {\n",
              "        vertical-align: top;\n",
              "    }\n",
              "\n",
              "    .dataframe thead th {\n",
              "        text-align: right;\n",
              "    }\n",
              "</style>\n",
              "<table border=\"1\" class=\"dataframe\">\n",
              "  <thead>\n",
              "    <tr style=\"text-align: right;\">\n",
              "      <th></th>\n",
              "      <th>instant</th>\n",
              "      <th>dteday</th>\n",
              "      <th>season</th>\n",
              "      <th>yr</th>\n",
              "      <th>mnth</th>\n",
              "      <th>hr</th>\n",
              "      <th>holiday</th>\n",
              "      <th>weekday</th>\n",
              "      <th>workingday</th>\n",
              "      <th>weathersit</th>\n",
              "      <th>temp</th>\n",
              "      <th>atemp</th>\n",
              "      <th>hum</th>\n",
              "      <th>windspeed</th>\n",
              "      <th>casual</th>\n",
              "      <th>registered</th>\n",
              "      <th>cnt</th>\n",
              "    </tr>\n",
              "  </thead>\n",
              "  <tbody>\n",
              "    <tr>\n",
              "      <th>0</th>\n",
              "      <td>1</td>\n",
              "      <td>2011-01-01</td>\n",
              "      <td>1</td>\n",
              "      <td>0</td>\n",
              "      <td>1</td>\n",
              "      <td>0</td>\n",
              "      <td>0</td>\n",
              "      <td>6</td>\n",
              "      <td>0</td>\n",
              "      <td>1</td>\n",
              "      <td>0.24</td>\n",
              "      <td>0.2879</td>\n",
              "      <td>0.81</td>\n",
              "      <td>0.0</td>\n",
              "      <td>3</td>\n",
              "      <td>13</td>\n",
              "      <td>16</td>\n",
              "    </tr>\n",
              "    <tr>\n",
              "      <th>1</th>\n",
              "      <td>2</td>\n",
              "      <td>2011-01-01</td>\n",
              "      <td>1</td>\n",
              "      <td>0</td>\n",
              "      <td>1</td>\n",
              "      <td>1</td>\n",
              "      <td>0</td>\n",
              "      <td>6</td>\n",
              "      <td>0</td>\n",
              "      <td>1</td>\n",
              "      <td>0.22</td>\n",
              "      <td>0.2727</td>\n",
              "      <td>0.80</td>\n",
              "      <td>0.0</td>\n",
              "      <td>8</td>\n",
              "      <td>32</td>\n",
              "      <td>40</td>\n",
              "    </tr>\n",
              "    <tr>\n",
              "      <th>2</th>\n",
              "      <td>3</td>\n",
              "      <td>2011-01-01</td>\n",
              "      <td>1</td>\n",
              "      <td>0</td>\n",
              "      <td>1</td>\n",
              "      <td>2</td>\n",
              "      <td>0</td>\n",
              "      <td>6</td>\n",
              "      <td>0</td>\n",
              "      <td>1</td>\n",
              "      <td>0.22</td>\n",
              "      <td>0.2727</td>\n",
              "      <td>0.80</td>\n",
              "      <td>0.0</td>\n",
              "      <td>5</td>\n",
              "      <td>27</td>\n",
              "      <td>32</td>\n",
              "    </tr>\n",
              "    <tr>\n",
              "      <th>3</th>\n",
              "      <td>4</td>\n",
              "      <td>2011-01-01</td>\n",
              "      <td>1</td>\n",
              "      <td>0</td>\n",
              "      <td>1</td>\n",
              "      <td>3</td>\n",
              "      <td>0</td>\n",
              "      <td>6</td>\n",
              "      <td>0</td>\n",
              "      <td>1</td>\n",
              "      <td>0.24</td>\n",
              "      <td>0.2879</td>\n",
              "      <td>0.75</td>\n",
              "      <td>0.0</td>\n",
              "      <td>3</td>\n",
              "      <td>10</td>\n",
              "      <td>13</td>\n",
              "    </tr>\n",
              "    <tr>\n",
              "      <th>4</th>\n",
              "      <td>5</td>\n",
              "      <td>2011-01-01</td>\n",
              "      <td>1</td>\n",
              "      <td>0</td>\n",
              "      <td>1</td>\n",
              "      <td>4</td>\n",
              "      <td>0</td>\n",
              "      <td>6</td>\n",
              "      <td>0</td>\n",
              "      <td>1</td>\n",
              "      <td>0.24</td>\n",
              "      <td>0.2879</td>\n",
              "      <td>0.75</td>\n",
              "      <td>0.0</td>\n",
              "      <td>0</td>\n",
              "      <td>1</td>\n",
              "      <td>1</td>\n",
              "    </tr>\n",
              "  </tbody>\n",
              "</table>\n",
              "</div>\n",
              "      <button class=\"colab-df-convert\" onclick=\"convertToInteractive('df-02bbc70d-20db-4339-b26f-728a72e2319d')\"\n",
              "              title=\"Convert this dataframe to an interactive table.\"\n",
              "              style=\"display:none;\">\n",
              "        \n",
              "  <svg xmlns=\"http://www.w3.org/2000/svg\" height=\"24px\"viewBox=\"0 0 24 24\"\n",
              "       width=\"24px\">\n",
              "    <path d=\"M0 0h24v24H0V0z\" fill=\"none\"/>\n",
              "    <path d=\"M18.56 5.44l.94 2.06.94-2.06 2.06-.94-2.06-.94-.94-2.06-.94 2.06-2.06.94zm-11 1L8.5 8.5l.94-2.06 2.06-.94-2.06-.94L8.5 2.5l-.94 2.06-2.06.94zm10 10l.94 2.06.94-2.06 2.06-.94-2.06-.94-.94-2.06-.94 2.06-2.06.94z\"/><path d=\"M17.41 7.96l-1.37-1.37c-.4-.4-.92-.59-1.43-.59-.52 0-1.04.2-1.43.59L10.3 9.45l-7.72 7.72c-.78.78-.78 2.05 0 2.83L4 21.41c.39.39.9.59 1.41.59.51 0 1.02-.2 1.41-.59l7.78-7.78 2.81-2.81c.8-.78.8-2.07 0-2.86zM5.41 20L4 18.59l7.72-7.72 1.47 1.35L5.41 20z\"/>\n",
              "  </svg>\n",
              "      </button>\n",
              "      \n",
              "  <style>\n",
              "    .colab-df-container {\n",
              "      display:flex;\n",
              "      flex-wrap:wrap;\n",
              "      gap: 12px;\n",
              "    }\n",
              "\n",
              "    .colab-df-convert {\n",
              "      background-color: #E8F0FE;\n",
              "      border: none;\n",
              "      border-radius: 50%;\n",
              "      cursor: pointer;\n",
              "      display: none;\n",
              "      fill: #1967D2;\n",
              "      height: 32px;\n",
              "      padding: 0 0 0 0;\n",
              "      width: 32px;\n",
              "    }\n",
              "\n",
              "    .colab-df-convert:hover {\n",
              "      background-color: #E2EBFA;\n",
              "      box-shadow: 0px 1px 2px rgba(60, 64, 67, 0.3), 0px 1px 3px 1px rgba(60, 64, 67, 0.15);\n",
              "      fill: #174EA6;\n",
              "    }\n",
              "\n",
              "    [theme=dark] .colab-df-convert {\n",
              "      background-color: #3B4455;\n",
              "      fill: #D2E3FC;\n",
              "    }\n",
              "\n",
              "    [theme=dark] .colab-df-convert:hover {\n",
              "      background-color: #434B5C;\n",
              "      box-shadow: 0px 1px 3px 1px rgba(0, 0, 0, 0.15);\n",
              "      filter: drop-shadow(0px 1px 2px rgba(0, 0, 0, 0.3));\n",
              "      fill: #FFFFFF;\n",
              "    }\n",
              "  </style>\n",
              "\n",
              "      <script>\n",
              "        const buttonEl =\n",
              "          document.querySelector('#df-02bbc70d-20db-4339-b26f-728a72e2319d button.colab-df-convert');\n",
              "        buttonEl.style.display =\n",
              "          google.colab.kernel.accessAllowed ? 'block' : 'none';\n",
              "\n",
              "        async function convertToInteractive(key) {\n",
              "          const element = document.querySelector('#df-02bbc70d-20db-4339-b26f-728a72e2319d');\n",
              "          const dataTable =\n",
              "            await google.colab.kernel.invokeFunction('convertToInteractive',\n",
              "                                                     [key], {});\n",
              "          if (!dataTable) return;\n",
              "\n",
              "          const docLinkHtml = 'Like what you see? Visit the ' +\n",
              "            '<a target=\"_blank\" href=https://colab.research.google.com/notebooks/data_table.ipynb>data table notebook</a>'\n",
              "            + ' to learn more about interactive tables.';\n",
              "          element.innerHTML = '';\n",
              "          dataTable['output_type'] = 'display_data';\n",
              "          await google.colab.output.renderOutput(dataTable, element);\n",
              "          const docLink = document.createElement('div');\n",
              "          docLink.innerHTML = docLinkHtml;\n",
              "          element.appendChild(docLink);\n",
              "        }\n",
              "      </script>\n",
              "    </div>\n",
              "  </div>\n",
              "  "
            ],
            "text/plain": [
              "   instant      dteday  season  yr  ...  windspeed  casual  registered  cnt\n",
              "0        1  2011-01-01       1   0  ...        0.0       3          13   16\n",
              "1        2  2011-01-01       1   0  ...        0.0       8          32   40\n",
              "2        3  2011-01-01       1   0  ...        0.0       5          27   32\n",
              "3        4  2011-01-01       1   0  ...        0.0       3          10   13\n",
              "4        5  2011-01-01       1   0  ...        0.0       0           1    1\n",
              "\n",
              "[5 rows x 17 columns]"
            ]
          },
          "metadata": {},
          "execution_count": 5
        }
      ]
    },
    {
      "metadata": {
        "trusted": true,
        "_uuid": "416d4536720553bf93baea07eaac6f45b7740571",
        "colab": {
          "base_uri": "https://localhost:8080/",
          "height": 357
        },
        "id": "liqCJKap3-CU",
        "outputId": "04f2fb14-9dcc-4b10-c3dc-000e8c6cf2a4"
      },
      "cell_type": "code",
      "source": [
        "# First Rows of bike rental day dataset\n",
        "bike_day_df_raws.head()"
      ],
      "execution_count": 6,
      "outputs": [
        {
          "output_type": "execute_result",
          "data": {
            "text/html": [
              "\n",
              "  <div id=\"df-7541db2f-93b5-4b91-89b6-27ab3b035a9e\">\n",
              "    <div class=\"colab-df-container\">\n",
              "      <div>\n",
              "<style scoped>\n",
              "    .dataframe tbody tr th:only-of-type {\n",
              "        vertical-align: middle;\n",
              "    }\n",
              "\n",
              "    .dataframe tbody tr th {\n",
              "        vertical-align: top;\n",
              "    }\n",
              "\n",
              "    .dataframe thead th {\n",
              "        text-align: right;\n",
              "    }\n",
              "</style>\n",
              "<table border=\"1\" class=\"dataframe\">\n",
              "  <thead>\n",
              "    <tr style=\"text-align: right;\">\n",
              "      <th></th>\n",
              "      <th>instant</th>\n",
              "      <th>dteday</th>\n",
              "      <th>season</th>\n",
              "      <th>yr</th>\n",
              "      <th>mnth</th>\n",
              "      <th>holiday</th>\n",
              "      <th>weekday</th>\n",
              "      <th>workingday</th>\n",
              "      <th>weathersit</th>\n",
              "      <th>temp</th>\n",
              "      <th>atemp</th>\n",
              "      <th>hum</th>\n",
              "      <th>windspeed</th>\n",
              "      <th>casual</th>\n",
              "      <th>registered</th>\n",
              "      <th>cnt</th>\n",
              "    </tr>\n",
              "  </thead>\n",
              "  <tbody>\n",
              "    <tr>\n",
              "      <th>0</th>\n",
              "      <td>1</td>\n",
              "      <td>2011-01-01</td>\n",
              "      <td>1</td>\n",
              "      <td>0</td>\n",
              "      <td>1</td>\n",
              "      <td>0</td>\n",
              "      <td>6</td>\n",
              "      <td>0</td>\n",
              "      <td>2</td>\n",
              "      <td>0.344167</td>\n",
              "      <td>0.363625</td>\n",
              "      <td>0.805833</td>\n",
              "      <td>0.160446</td>\n",
              "      <td>331</td>\n",
              "      <td>654</td>\n",
              "      <td>985</td>\n",
              "    </tr>\n",
              "    <tr>\n",
              "      <th>1</th>\n",
              "      <td>2</td>\n",
              "      <td>2011-01-02</td>\n",
              "      <td>1</td>\n",
              "      <td>0</td>\n",
              "      <td>1</td>\n",
              "      <td>0</td>\n",
              "      <td>0</td>\n",
              "      <td>0</td>\n",
              "      <td>2</td>\n",
              "      <td>0.363478</td>\n",
              "      <td>0.353739</td>\n",
              "      <td>0.696087</td>\n",
              "      <td>0.248539</td>\n",
              "      <td>131</td>\n",
              "      <td>670</td>\n",
              "      <td>801</td>\n",
              "    </tr>\n",
              "    <tr>\n",
              "      <th>2</th>\n",
              "      <td>3</td>\n",
              "      <td>2011-01-03</td>\n",
              "      <td>1</td>\n",
              "      <td>0</td>\n",
              "      <td>1</td>\n",
              "      <td>0</td>\n",
              "      <td>1</td>\n",
              "      <td>1</td>\n",
              "      <td>1</td>\n",
              "      <td>0.196364</td>\n",
              "      <td>0.189405</td>\n",
              "      <td>0.437273</td>\n",
              "      <td>0.248309</td>\n",
              "      <td>120</td>\n",
              "      <td>1229</td>\n",
              "      <td>1349</td>\n",
              "    </tr>\n",
              "    <tr>\n",
              "      <th>3</th>\n",
              "      <td>4</td>\n",
              "      <td>2011-01-04</td>\n",
              "      <td>1</td>\n",
              "      <td>0</td>\n",
              "      <td>1</td>\n",
              "      <td>0</td>\n",
              "      <td>2</td>\n",
              "      <td>1</td>\n",
              "      <td>1</td>\n",
              "      <td>0.200000</td>\n",
              "      <td>0.212122</td>\n",
              "      <td>0.590435</td>\n",
              "      <td>0.160296</td>\n",
              "      <td>108</td>\n",
              "      <td>1454</td>\n",
              "      <td>1562</td>\n",
              "    </tr>\n",
              "    <tr>\n",
              "      <th>4</th>\n",
              "      <td>5</td>\n",
              "      <td>2011-01-05</td>\n",
              "      <td>1</td>\n",
              "      <td>0</td>\n",
              "      <td>1</td>\n",
              "      <td>0</td>\n",
              "      <td>3</td>\n",
              "      <td>1</td>\n",
              "      <td>1</td>\n",
              "      <td>0.226957</td>\n",
              "      <td>0.229270</td>\n",
              "      <td>0.436957</td>\n",
              "      <td>0.186900</td>\n",
              "      <td>82</td>\n",
              "      <td>1518</td>\n",
              "      <td>1600</td>\n",
              "    </tr>\n",
              "  </tbody>\n",
              "</table>\n",
              "</div>\n",
              "      <button class=\"colab-df-convert\" onclick=\"convertToInteractive('df-7541db2f-93b5-4b91-89b6-27ab3b035a9e')\"\n",
              "              title=\"Convert this dataframe to an interactive table.\"\n",
              "              style=\"display:none;\">\n",
              "        \n",
              "  <svg xmlns=\"http://www.w3.org/2000/svg\" height=\"24px\"viewBox=\"0 0 24 24\"\n",
              "       width=\"24px\">\n",
              "    <path d=\"M0 0h24v24H0V0z\" fill=\"none\"/>\n",
              "    <path d=\"M18.56 5.44l.94 2.06.94-2.06 2.06-.94-2.06-.94-.94-2.06-.94 2.06-2.06.94zm-11 1L8.5 8.5l.94-2.06 2.06-.94-2.06-.94L8.5 2.5l-.94 2.06-2.06.94zm10 10l.94 2.06.94-2.06 2.06-.94-2.06-.94-.94-2.06-.94 2.06-2.06.94z\"/><path d=\"M17.41 7.96l-1.37-1.37c-.4-.4-.92-.59-1.43-.59-.52 0-1.04.2-1.43.59L10.3 9.45l-7.72 7.72c-.78.78-.78 2.05 0 2.83L4 21.41c.39.39.9.59 1.41.59.51 0 1.02-.2 1.41-.59l7.78-7.78 2.81-2.81c.8-.78.8-2.07 0-2.86zM5.41 20L4 18.59l7.72-7.72 1.47 1.35L5.41 20z\"/>\n",
              "  </svg>\n",
              "      </button>\n",
              "      \n",
              "  <style>\n",
              "    .colab-df-container {\n",
              "      display:flex;\n",
              "      flex-wrap:wrap;\n",
              "      gap: 12px;\n",
              "    }\n",
              "\n",
              "    .colab-df-convert {\n",
              "      background-color: #E8F0FE;\n",
              "      border: none;\n",
              "      border-radius: 50%;\n",
              "      cursor: pointer;\n",
              "      display: none;\n",
              "      fill: #1967D2;\n",
              "      height: 32px;\n",
              "      padding: 0 0 0 0;\n",
              "      width: 32px;\n",
              "    }\n",
              "\n",
              "    .colab-df-convert:hover {\n",
              "      background-color: #E2EBFA;\n",
              "      box-shadow: 0px 1px 2px rgba(60, 64, 67, 0.3), 0px 1px 3px 1px rgba(60, 64, 67, 0.15);\n",
              "      fill: #174EA6;\n",
              "    }\n",
              "\n",
              "    [theme=dark] .colab-df-convert {\n",
              "      background-color: #3B4455;\n",
              "      fill: #D2E3FC;\n",
              "    }\n",
              "\n",
              "    [theme=dark] .colab-df-convert:hover {\n",
              "      background-color: #434B5C;\n",
              "      box-shadow: 0px 1px 3px 1px rgba(0, 0, 0, 0.15);\n",
              "      filter: drop-shadow(0px 1px 2px rgba(0, 0, 0, 0.3));\n",
              "      fill: #FFFFFF;\n",
              "    }\n",
              "  </style>\n",
              "\n",
              "      <script>\n",
              "        const buttonEl =\n",
              "          document.querySelector('#df-7541db2f-93b5-4b91-89b6-27ab3b035a9e button.colab-df-convert');\n",
              "        buttonEl.style.display =\n",
              "          google.colab.kernel.accessAllowed ? 'block' : 'none';\n",
              "\n",
              "        async function convertToInteractive(key) {\n",
              "          const element = document.querySelector('#df-7541db2f-93b5-4b91-89b6-27ab3b035a9e');\n",
              "          const dataTable =\n",
              "            await google.colab.kernel.invokeFunction('convertToInteractive',\n",
              "                                                     [key], {});\n",
              "          if (!dataTable) return;\n",
              "\n",
              "          const docLinkHtml = 'Like what you see? Visit the ' +\n",
              "            '<a target=\"_blank\" href=https://colab.research.google.com/notebooks/data_table.ipynb>data table notebook</a>'\n",
              "            + ' to learn more about interactive tables.';\n",
              "          element.innerHTML = '';\n",
              "          dataTable['output_type'] = 'display_data';\n",
              "          await google.colab.output.renderOutput(dataTable, element);\n",
              "          const docLink = document.createElement('div');\n",
              "          docLink.innerHTML = docLinkHtml;\n",
              "          element.appendChild(docLink);\n",
              "        }\n",
              "      </script>\n",
              "    </div>\n",
              "  </div>\n",
              "  "
            ],
            "text/plain": [
              "   instant      dteday  season  yr  ...  windspeed  casual  registered   cnt\n",
              "0        1  2011-01-01       1   0  ...   0.160446     331         654   985\n",
              "1        2  2011-01-02       1   0  ...   0.248539     131         670   801\n",
              "2        3  2011-01-03       1   0  ...   0.248309     120        1229  1349\n",
              "3        4  2011-01-04       1   0  ...   0.160296     108        1454  1562\n",
              "4        5  2011-01-05       1   0  ...   0.186900      82        1518  1600\n",
              "\n",
              "[5 rows x 16 columns]"
            ]
          },
          "metadata": {},
          "execution_count": 6
        }
      ]
    },
    {
      "metadata": {
        "_uuid": "350dd1cddd31d1223768596a205b31000a03b293",
        "id": "Ek3HEUya3-CV"
      },
      "cell_type": "markdown",
      "source": [
        "## Analysing and cleaning of unused features\n",
        "\n",
        "By using the head function we can learn that there are\n",
        "dates\n",
        "integers\n",
        "floats\n",
        "\n",
        "their are also some redundant datas like dteday which have alredy been categorized throught 'session', 'yr', 'mnth', 'hr'. so dteday feature can be drop out but we can use it little longer for exploration needs.\n",
        "their are others also like\n",
        "temp - atemp\n",
        "\n",
        "we can also drop 'casual' and 'registered' feature as they will not help us model demand from a single user behaviour"
      ]
    },
    {
      "metadata": {
        "trusted": true,
        "_uuid": "fee7db09e6e668e092a52528cd2ffc203f0902f0",
        "id": "iC2AqCER3-CX"
      },
      "cell_type": "code",
      "source": [
        "# removing useless feature\n",
        "bikes_hour_df = bikes_hour_df_raws.drop(['casual' , 'registered'], axis=1)"
      ],
      "execution_count": 7,
      "outputs": []
    },
    {
      "metadata": {
        "trusted": true,
        "_uuid": "be4feb223941d87e7d6021032bd8ce95f575e802",
        "colab": {
          "base_uri": "https://localhost:8080/"
        },
        "id": "BTPow_G53-CY",
        "outputId": "429611be-a915-4402-d2b9-a4fb68af3925"
      },
      "cell_type": "code",
      "source": [
        "#lets get information about features\n",
        "bikes_hour_df.info()"
      ],
      "execution_count": 8,
      "outputs": [
        {
          "output_type": "stream",
          "name": "stdout",
          "text": [
            "<class 'pandas.core.frame.DataFrame'>\n",
            "RangeIndex: 17379 entries, 0 to 17378\n",
            "Data columns (total 15 columns):\n",
            " #   Column      Non-Null Count  Dtype  \n",
            "---  ------      --------------  -----  \n",
            " 0   instant     17379 non-null  int64  \n",
            " 1   dteday      17379 non-null  object \n",
            " 2   season      17379 non-null  int64  \n",
            " 3   yr          17379 non-null  int64  \n",
            " 4   mnth        17379 non-null  int64  \n",
            " 5   hr          17379 non-null  int64  \n",
            " 6   holiday     17379 non-null  int64  \n",
            " 7   weekday     17379 non-null  int64  \n",
            " 8   workingday  17379 non-null  int64  \n",
            " 9   weathersit  17379 non-null  int64  \n",
            " 10  temp        17379 non-null  float64\n",
            " 11  atemp       17379 non-null  float64\n",
            " 12  hum         17379 non-null  float64\n",
            " 13  windspeed   17379 non-null  float64\n",
            " 14  cnt         17379 non-null  int64  \n",
            "dtypes: float64(4), int64(10), object(1)\n",
            "memory usage: 2.0+ MB\n"
          ]
        }
      ]
    },
    {
      "metadata": {
        "_uuid": "43109136ba4d156613bdce42d6d20c991ff3c364",
        "id": "-HaguSoz3-CZ"
      },
      "cell_type": "markdown",
      "source": [
        "We can see their is no null values values and majority of the models in existence requires numerical data ans this is what we have, so  far we are goo to go\n",
        "\n",
        "lets get into a closer look at our outcome variable 'cnt' count of total rental bike."
      ]
    },
    {
      "metadata": {
        "trusted": true,
        "_uuid": "bea4b39ff4eb9f00bc782e4e37e41f1cba53bbc5",
        "colab": {
          "base_uri": "https://localhost:8080/"
        },
        "id": "dKYfFgzH3-Ca",
        "outputId": "dbe8bbcc-62f5-4399-b0bd-b0678f6afd0e"
      },
      "cell_type": "code",
      "source": [
        "bikes_hour_df['cnt'].describe()"
      ],
      "execution_count": 9,
      "outputs": [
        {
          "output_type": "execute_result",
          "data": {
            "text/plain": [
              "count    17379.000000\n",
              "mean       189.463088\n",
              "std        181.387599\n",
              "min          1.000000\n",
              "25%         40.000000\n",
              "50%        142.000000\n",
              "75%        281.000000\n",
              "max        977.000000\n",
              "Name: cnt, dtype: float64"
            ]
          },
          "metadata": {},
          "execution_count": 9
        }
      ]
    },
    {
      "metadata": {
        "_uuid": "b317979730aea5d929938ded56c8fe5b151d24c2",
        "id": "v4bFf-Ss3-Ca"
      },
      "cell_type": "markdown",
      "source": [
        "so by seeing the result we can conclude\n",
        "cnt - ranges between min of 1 and max of 977 which means that each hour has seen a minimum of 1 bike rental to max of 977 bike rentals that good right and\n",
        "\n",
        "avg rental count  - 189.5\n",
        "as we are dealing with continuous numerical variables where linear regression is the right choice to train and predict bicycle rental count. \n",
        "but you are free to apply any regression model to predict feel free to explore\n",
        "\n",
        "## Number Summary of the Bike Rental Count 'cnt' Feature"
      ]
    },
    {
      "metadata": {
        "trusted": true,
        "_uuid": "213c386e6abeaab31b65cc0d9ea5a6fbdee8d69a",
        "colab": {
          "base_uri": "https://localhost:8080/",
          "height": 311
        },
        "id": "5H3Wz5kB3-Cb",
        "outputId": "86240557-c05b-49a5-98a2-6cd87227ac10"
      },
      "cell_type": "code",
      "source": [
        "fig, ax = plt.subplots(1)\n",
        "ax.plot(sorted(bikes_hour_df['cnt']), color = 'blue', marker = '*', label='cnt')\n",
        "ax.legend(loc= 'upper left')\n",
        "ax.set_ylabel('Sorted Rental Counts', fontsize = 10)\n",
        "fig.suptitle('Recorded Bike Rental Counts', fontsize = 10)\n"
      ],
      "execution_count": 10,
      "outputs": [
        {
          "output_type": "execute_result",
          "data": {
            "text/plain": [
              "Text(0.5, 0.98, 'Recorded Bike Rental Counts')"
            ]
          },
          "metadata": {},
          "execution_count": 10
        },
        {
          "output_type": "display_data",
          "data": {
            "image/png": "[encoded data removed]",
            "text/plain": [
              "<Figure size 432x288 with 1 Axes>"
            ]
          },
          "metadata": {
            "needs_background": "light"
          }
        }
      ]
    },
    {
      "metadata": {
        "_uuid": "5b57b909e6c3726e4f4c5d1a32168e02f606a61d",
        "id": "xFZ6zhIG3-Cb"
      },
      "cell_type": "markdown",
      "source": [
        "Sorted counts of the bike rentals reveal that the majority of the rentals happen in \n",
        "the 0 - 400 ranges,\n",
        "values higher than those are rare or outliers\n",
        "\n",
        "## Quantitative Features vs. Rental Counts\n",
        "\n",
        "lets create scatter plots of all our float data types and compare them against rental counts to visualize potential relationship"
      ]
    },
    {
      "metadata": {
        "trusted": true,
        "_uuid": "f8d469a1db840d9c27bf5c74b07c0ceb832c3250",
        "colab": {
          "base_uri": "https://localhost:8080/",
          "height": 325
        },
        "id": "u8hwLT4T3-Cc",
        "outputId": "83d1401f-be59-4313-d942-ef344466b152"
      },
      "cell_type": "code",
      "source": [
        "plt.scatter(bikes_hour_df['temp'], bikes_hour_df['cnt'])\n",
        "plt.suptitle('Numerical Feature: Cnt v/s temp')\n",
        "plt.xlabel('temp')\n",
        "plt.ylabel('Count of all Biks Rented')"
      ],
      "execution_count": 11,
      "outputs": [
        {
          "output_type": "execute_result",
          "data": {
            "text/plain": [
              "Text(0, 0.5, 'Count of all Biks Rented')"
            ]
          },
          "metadata": {},
          "execution_count": 11
        },
        {
          "output_type": "display_data",
          "data": {
            "image/png": "[encoded data removed]",
            "text/plain": [
              "<Figure size 432x288 with 1 Axes>"
            ]
          },
          "metadata": {
            "needs_background": "light"
          }
        }
      ]
    },
    {
      "metadata": {
        "_uuid": "0adf5a627a814660cdae63f82a52f36cde37bc53",
        "id": "YbhGG85s3-Cd"
      },
      "cell_type": "markdown",
      "source": [
        "As per the scatter plot we can see their is a liner relation between number of bike rented and temperature \n",
        "the warmmer the temp the more bike get rented"
      ]
    },
    {
      "metadata": {
        "trusted": true,
        "_uuid": "1fe9c161a2f0fccbb8ad8386066ea50d00a2d0ad",
        "colab": {
          "base_uri": "https://localhost:8080/",
          "height": 325
        },
        "id": "fgIzH0mr3-Cd",
        "outputId": "c3b7bf47-40b3-4593-d6a1-1d7dbab29732"
      },
      "cell_type": "code",
      "source": [
        "plt.scatter(bikes_hour_df['atemp'], bikes_hour_df['cnt'])\n",
        "plt.suptitle('Numerical Feature: Cnt v/s atemp')\n",
        "plt.xlabel('atemp')\n",
        "plt.ylabel('Count of all Biks Rented')"
      ],
      "execution_count": 12,
      "outputs": [
        {
          "output_type": "execute_result",
          "data": {
            "text/plain": [
              "Text(0, 0.5, 'Count of all Biks Rented')"
            ]
          },
          "metadata": {},
          "execution_count": 12
        },
        {
          "output_type": "display_data",
          "data": {
            "image/png": "[encoded data removed]",
            "text/plain": [
              "<Figure size 432x288 with 1 Axes>"
            ]
          },
          "metadata": {
            "needs_background": "light"
          }
        }
      ]
    },
    {
      "metadata": {
        "_uuid": "de6c4253eae691a5571918fca7a6abad26c52fb6",
        "id": "iKO4b52U3-Ce"
      },
      "cell_type": "markdown",
      "source": [
        "as we can see both the feature 'temp' and 'atemp' have similar distribution and may present redundancy and even multicollinearity. to keep things clean we can drop the 'atemp' feature"
      ]
    },
    {
      "metadata": {
        "trusted": true,
        "_uuid": "f9f51bbf408b7ddbeec29de2bd649122ea6320aa",
        "colab": {
          "base_uri": "https://localhost:8080/",
          "height": 325
        },
        "id": "dnjvV3Yq3-Cf",
        "outputId": "c222a7d8-59ea-4f8f-ff37-f25c0461242c"
      },
      "cell_type": "code",
      "source": [
        "plt.scatter(bikes_hour_df['hum'], bikes_hour_df['cnt'])\n",
        "plt.suptitle('Numerical Feature: Cnt v/s hum')\n",
        "plt.xlabel('hum')\n",
        "plt.ylabel('Count of all Biks Rented')"
      ],
      "execution_count": 13,
      "outputs": [
        {
          "output_type": "execute_result",
          "data": {
            "text/plain": [
              "Text(0, 0.5, 'Count of all Biks Rented')"
            ]
          },
          "metadata": {},
          "execution_count": 13
        },
        {
          "output_type": "display_data",
          "data": {
            "image/png": "[encoded data removed]",
            "text/plain": [
              "<Figure size 432x288 with 1 Axes>"
            ]
          },
          "metadata": {
            "needs_background": "light"
          }
        }
      ]
    },
    {
      "metadata": {
        "trusted": true,
        "_uuid": "182ee2a90c6634d919fdf90c458e65724b5f6363",
        "colab": {
          "base_uri": "https://localhost:8080/",
          "height": 325
        },
        "id": "zDHGj7WW3-Cf",
        "outputId": "49b75696-3ce6-4d4b-822d-9e4a3cdd5694"
      },
      "cell_type": "code",
      "source": [
        "plt.scatter(bikes_hour_df['windspeed'], bikes_hour_df['cnt'])\n",
        "plt.suptitle('Numerical Feature: Cnt v/s windspeed')\n",
        "plt.xlabel('windspeed')\n",
        "plt.ylabel('Count of all Biks Rented')"
      ],
      "execution_count": 14,
      "outputs": [
        {
          "output_type": "execute_result",
          "data": {
            "text/plain": [
              "Text(0, 0.5, 'Count of all Biks Rented')"
            ]
          },
          "metadata": {},
          "execution_count": 14
        },
        {
          "output_type": "display_data",
          "data": {
            "image/png": "[encoded data removed]",
            "text/plain": [
              "<Figure size 432x288 with 1 Axes>"
            ]
          },
          "metadata": {
            "needs_background": "light"
          }
        }
      ]
    },
    {
      "metadata": {
        "_uuid": "242e91ccdbbbefb8d405f01024c01bffe7123cd1",
        "id": "Dr07evCD3-Cf"
      },
      "cell_type": "markdown",
      "source": [
        "For 'hum' or humidity looks like a big blob throught the edges so show some sparseness.\n",
        "and for feature 'windspeed' shows inverse relationship with rentals\n",
        "\n",
        "for conculsion we can say too much wind and bike rentals dont seem to mix"
      ]
    },
    {
      "metadata": {
        "_uuid": "4d6dc17ae847b8eadc1fbba980f6a8226af9ee4d",
        "id": "8oCfR8753-Cg"
      },
      "cell_type": "markdown",
      "source": [
        "## Let’s Look at Categorical Features"
      ]
    },
    {
      "metadata": {
        "trusted": true,
        "_uuid": "f4632fc6b6165801a4a2fe4d49b57cbcbfb73516",
        "colab": {
          "base_uri": "https://localhost:8080/",
          "height": 441
        },
        "id": "uIdDQcUC3-Cg",
        "outputId": "51d19f06-802b-41b8-a019-3f06117175f8"
      },
      "cell_type": "code",
      "source": [
        "f,  (ax1, ax2)  =  plt.subplots(nrows=1, ncols=2, figsize=(13, 6))\n",
        "\n",
        "ax1 = bikes_hour_df[['season','cnt']].groupby(['season']).sum().reset_index().plot(kind='bar',\n",
        "                                       legend = False, title =\"Counts of Bike Rentals by season\", \n",
        "                                         stacked=True, fontsize=12, ax=ax1)\n",
        "ax1.set_xlabel(\"season\", fontsize=12)\n",
        "ax1.set_ylabel(\"Count\", fontsize=12)\n",
        "ax1.set_xticklabels(['spring','sumer','fall','winter'])\n",
        "\n",
        " \n",
        "ax2 = bikes_hour_df[['weathersit','cnt']].groupby(['weathersit']).sum().reset_index().plot(kind='bar',  \n",
        "      legend = False, stacked=True, title =\"Counts of Bike Rentals by weathersit\", fontsize=12, ax=ax2)\n",
        "\n",
        "ax2.set_xlabel(\"weathersit\", fontsize=12)\n",
        "ax2.set_ylabel(\"Count\", fontsize=12)\n",
        "ax2.set_xticklabels(['1: Clear','2: Mist','3: Light Snow','4: Heavy Rain'])\n",
        "\n",
        "f.tight_layout()\n"
      ],
      "execution_count": 15,
      "outputs": [
        {
          "output_type": "display_data",
          "data": {
            "image/png": "[encoded data removed]",
            "text/plain": [
              "<Figure size 936x432 with 2 Axes>"
            ]
          },
          "metadata": {
            "needs_background": "light"
          }
        }
      ]
    },
    {
      "metadata": {
        "_uuid": "e9c7af0a9309f012b01881e8d1b97933a46595c1",
        "id": "ZJ64lP5n3-Ch"
      },
      "cell_type": "markdown",
      "source": [
        "the above graph of 'weathersit' shows that people tends to rent more bike in clear weather ad 'season' show the fall is the top season to rent bike."
      ]
    },
    {
      "metadata": {
        "trusted": true,
        "_uuid": "258482ed03d3b3ca1efc8d8c9fbdd95e64b218ee",
        "colab": {
          "base_uri": "https://localhost:8080/",
          "height": 412
        },
        "id": "DL9d6XGC3-Ch",
        "outputId": "d9c99e66-54e3-472e-e67c-d4e1c01f992d"
      },
      "cell_type": "code",
      "source": [
        "# alternative way of plotting using groupby\n",
        "ax = bikes_hour_df[['hr','cnt']].groupby(['hr']).sum().reset_index().plot(kind='bar', figsize=(8, 6),\n",
        "                                       legend = False, title =\"Total Bike Rentals by Hour\", \n",
        "                                       color='orange', fontsize=12)\n",
        "ax.set_xlabel(\"Hour\", fontsize=12)\n",
        "ax.set_ylabel(\"Count\", fontsize=12)\n",
        "plt.show()"
      ],
      "execution_count": 16,
      "outputs": [
        {
          "output_type": "display_data",
          "data": {
            "image/png": "[encoded data removed]",
            "text/plain": [
              "<Figure size 576x432 with 1 Axes>"
            ]
          },
          "metadata": {
            "needs_background": "light"
          }
        }
      ]
    },
    {
      "metadata": {
        "_uuid": "925a552120a007fdfc2280cb88c6f466f41857d8",
        "id": "hopFPlTn3-Ci"
      },
      "cell_type": "markdown",
      "source": [
        "the feature 'hr' or we can say rental hours, clear shows peak office commute hours and afternoon rides are very popular bike time.\n",
        "\n",
        "## Preparing the Data for modeling\n",
        "In most case to make a machine leaarning model we need to clean the data and here we have done the cleaning in order to be 'model ready',\n",
        "we have alredy drop some unused feature\n",
        "we have no null values.\n",
        "\n",
        "# Model with linear regression\n",
        "\n",
        "simple model with all numerical variables"
      ]
    },
    {
      "metadata": {
        "trusted": true,
        "_uuid": "33261d0e52a078292ac5d2e45ad605531775d67a",
        "colab": {
          "base_uri": "https://localhost:8080/"
        },
        "id": "6Y4A5-zM3-Ci",
        "outputId": "ef1c266a-542d-4181-efe8-d36b1b319128"
      },
      "cell_type": "code",
      "source": [
        "# lets copy for editing without effecting original\n",
        "bikes_df_model_data = bikes_hour_df.copy()\n",
        "\n",
        "outcome = 'cnt'\n",
        "\n",
        "#making feature list for each modeling - experiment by adding feature to the exclusion list\n",
        "feature = [feat for feat in list(bikes_df_model_data) if feat not in [outcome, 'instant', 'dteday']]\n",
        "\n",
        "#spliting data into train and test portion\n",
        "X_trian, X_test, y_train, y_test = train_test_split(bikes_df_model_data[feature],\n",
        "                                                   bikes_df_model_data[outcome],\n",
        "                                                   test_size=0.3, random_state=42)\n",
        "\n",
        "from sklearn import linear_model\n",
        "lr_model = linear_model.LinearRegression()\n",
        "\n",
        "#training model in training set\n",
        "lr_model.fit(X_trian, y_train)\n",
        "\n",
        "# making predection using the test set\n",
        "y_pred = lr_model.predict(X_test)\n",
        "\n",
        "#root mean squared error\n",
        "print('RMSE: %.2f' % sqrt(mean_squared_error(y_test, y_pred)))\n"
      ],
      "execution_count": 17,
      "outputs": [
        {
          "output_type": "stream",
          "name": "stdout",
          "text": [
            "RMSE: 139.14\n"
          ]
        }
      ]
    },
    {
      "metadata": {
        "_uuid": "ff2be3f534397ab4696f9eefab938c3dfaba7930",
        "id": "jrOlCNvF3-Cj"
      },
      "cell_type": "markdown",
      "source": [
        "so we get rmse  and we will use that as our benchmark score.but let see if we can improv on this.\n",
        "\n",
        "#### Experimenting with Feature \n",
        "Let’s see if we can get a better score by experimenting with a few different techniques, including polynomials, nonlinear modeling, and leveraging time-series.\n",
        "\n",
        "## Model using Polynomials - 2 & 4 degrees "
      ]
    },
    {
      "metadata": {
        "trusted": true,
        "_uuid": "2bc823982c3f09e2a39da8b187011f5ee4367208",
        "colab": {
          "base_uri": "https://localhost:8080/"
        },
        "id": "fNGuQE8H3-Cj",
        "outputId": "f7417adc-f111-4483-f4ec-eaa680362353"
      },
      "cell_type": "code",
      "source": [
        "# lets copy for editing without effecting original\n",
        "bikes_df_model_data = bikes_hour_df.copy()\n",
        "\n",
        "outcome = 'cnt'\n",
        "\n",
        "#making feature list for each modeling - experiment by adding feature to the exclusion list\n",
        "feature = [feat for feat in list(bikes_df_model_data) if feat not in [outcome, 'instant', 'dteday']]\n",
        "\n",
        "X_trian, X_test, y_train, y_test = train_test_split(bikes_df_model_data[feature],\n",
        "                                                   bikes_df_model_data[outcome],\n",
        "                                                   test_size=0.3, random_state=42)\n",
        "\n",
        "from sklearn.preprocessing import PolynomialFeatures\n",
        "poly_feat = PolynomialFeatures(2)\n",
        "X_train = poly_feat.fit_transform(X_trian)\n",
        "X_test = poly_feat.fit_transform(X_test)\n",
        "\n",
        "from sklearn import linear_model\n",
        "lr_model= linear_model.LinearRegression()\n",
        "\n",
        "# training the model on traning set\n",
        "lr_model.fit(X_train, y_train)\n",
        "\n",
        "# make the prediction\n",
        "y_pred = lr_model.predict(X_test)\n",
        "\n",
        "#root mean squared error\n",
        "print(\"Root Mean squared error with PolynomialFeatures set to 2 degrees: %.2f\" \n",
        "      % sqrt(mean_squared_error(y_test, y_pred)))"
      ],
      "execution_count": 18,
      "outputs": [
        {
          "output_type": "stream",
          "name": "stdout",
          "text": [
            "Root Mean squared error with PolynomialFeatures set to 2 degrees: 120.44\n"
          ]
        }
      ]
    },
    {
      "metadata": {
        "trusted": true,
        "_uuid": "a0e8e45873468c1213a20e5144bd51f751b64e92",
        "colab": {
          "base_uri": "https://localhost:8080/"
        },
        "id": "8f_uzFRC3-Ck",
        "outputId": "415104d1-ca5a-4dd0-964b-991f46669755"
      },
      "cell_type": "code",
      "source": [
        "# lets copy for editing without effecting original\n",
        "bikes_df_model_data = bikes_hour_df.copy()\n",
        "\n",
        "outcome = 'cnt'\n",
        "\n",
        "#making feature list for each modeling - experiment by adding feature to the exclusion list\n",
        "feature = [feat for feat in list(bikes_df_model_data) if feat not in [outcome, 'instant', 'dteday']]\n",
        "\n",
        "X_trian, X_test, y_train, y_test = train_test_split(bikes_df_model_data[feature],\n",
        "                                                   bikes_df_model_data[outcome],\n",
        "                                                   test_size=0.3, random_state=42)\n",
        "\n",
        "from sklearn.preprocessing import PolynomialFeatures\n",
        "poly_feat = PolynomialFeatures(4)\n",
        "X_train = poly_feat.fit_transform(X_trian)\n",
        "X_test = poly_feat.fit_transform(X_test)\n",
        "\n",
        "from sklearn import linear_model\n",
        "lr_model= linear_model.LinearRegression()\n",
        "\n",
        "# training the model on traning set\n",
        "lr_model.fit(X_train, y_train)\n",
        "\n",
        "# make the prediction\n",
        "y_pred = lr_model.predict(X_test)\n",
        "\n",
        "#root mean squared error\n",
        "print(\"Root Mean squared error with PolynomialFeatures set to 4 degrees: %.2f\" \n",
        "      % sqrt(mean_squared_error(y_test, y_pred)))"
      ],
      "execution_count": 19,
      "outputs": [
        {
          "output_type": "stream",
          "name": "stdout",
          "text": [
            "Root Mean squared error with PolynomialFeatures set to 4 degrees: 452.36\n"
          ]
        }
      ]
    },
    {
      "metadata": {
        "_uuid": "114ff6e991d7a1a57365ef1fd9eef4a0f8f5655b",
        "id": "AKRK4vl03-Ck"
      },
      "cell_type": "markdown",
      "source": [
        "The score does improve using the 2nd and 4rd degree but then degrades beyond that point.\n",
        "\n",
        "### Model with simple feature enginneering"
      ]
    },
    {
      "metadata": {
        "trusted": true,
        "_uuid": "bf34e2c2cc31016a77e4eef7847cd8b7f835a5f8",
        "colab": {
          "base_uri": "https://localhost:8080/"
        },
        "id": "qZi7kooe3-Cl",
        "outputId": "e7764212-49a2-4c3f-c651-5162c5a05849"
      },
      "cell_type": "code",
      "source": [
        "def prepare_data_for_model(raw_dataframe, \n",
        "                           target_columns, \n",
        "                           drop_first = False, \n",
        "                           make_na_col = True):\n",
        "    \n",
        "    # dummy all categorical fields \n",
        "    dataframe_dummy = pd.get_dummies(raw_dataframe, columns=target_columns, \n",
        "                                     drop_first=drop_first, \n",
        "                                     dummy_na=make_na_col)\n",
        "    return (dataframe_dummy)\n",
        "\n",
        "# make a copy for editing without affecting original\n",
        "bike_df_model_ready = bikes_hour_df.copy()\n",
        "bike_df_model_ready = bike_df_model_ready.sort_values('instant')\n",
        "\n",
        "# dummify categorical columns\n",
        "bike_df_model_ready = prepare_data_for_model(bike_df_model_ready, \n",
        "                                            target_columns = ['season', \n",
        "                                                              'weekday', \n",
        "                                                              'weathersit'],\n",
        "                                            drop_first = True)\n",
        "\n",
        "# remove the nan colums in dataframe as most are outcome variable and we can't use them\n",
        "bike_df_model_ready = bike_df_model_ready.dropna() \n",
        "\n",
        "\n",
        "outcome = 'cnt'\n",
        "features = [feat for feat in list(bike_df_model_ready) if feat not in [outcome, 'instant',  'dteday']]  \n",
        "\n",
        " \n",
        "X_train, X_test, y_train, y_test = train_test_split(bike_df_model_ready[features], \n",
        "                                                 bike_df_model_ready[['cnt']], \n",
        "                                                 test_size=0.5, \n",
        "                                                 random_state=42)\n",
        "from sklearn import linear_model\n",
        "model_lr = linear_model.LinearRegression()\n",
        " \n",
        "# train the model on training set\n",
        "model_lr.fit(X_train, y_train)\n",
        "\n",
        "# make predictions using the testing set\n",
        "predictions = model_lr.predict(X_test)\n",
        " \n",
        "# print coefficients as this is what our web application will use in the end\n",
        "print('Coefficients: \\n', model_lr.coef_)\n",
        "\n",
        "# root mean squared error\n",
        "print(\"Root Mean squared error: %.2f\" % sqrt(mean_squared_error(y_test, predictions)))\n",
        " "
      ],
      "execution_count": 20,
      "outputs": [
        {
          "output_type": "stream",
          "name": "stdout",
          "text": [
            "Coefficients: \n",
            " [[ 8.15248087e+01 -3.05053709e-01  7.31700288e+00 -2.12212108e+01\n",
            "   1.25047676e+01  2.56576596e+02  1.06754237e+02 -2.00225607e+02\n",
            "   3.93454538e+01  2.54085994e+01  2.24746614e+00  7.16672281e+01\n",
            "  -2.13162821e-14 -4.49090388e+00  6.22106355e-01 -2.38810162e+00\n",
            "  -3.93756806e+00  1.47802402e+00  1.23008686e+01  0.00000000e+00\n",
            "   9.33424984e+00 -2.40957826e+01  3.07030469e+01  0.00000000e+00]]\n",
            "Root Mean squared error: 139.40\n"
          ]
        }
      ]
    },
    {
      "metadata": {
        "trusted": true,
        "_uuid": "2f59d08b47c0db735854d12c6d3b898771c8df61",
        "colab": {
          "base_uri": "https://localhost:8080/",
          "height": 206
        },
        "id": "fHG4Okuj3-Cl",
        "outputId": "2d5b2773-604f-4ac8-b9fc-ff0c4cd7e6f7"
      },
      "cell_type": "code",
      "source": [
        "bike_df_model_ready[['weathersit_2.0', 'weathersit_3.0', 'weathersit_4.0']].head()"
      ],
      "execution_count": 21,
      "outputs": [
        {
          "output_type": "execute_result",
          "data": {
            "text/html": [
              "\n",
              "  <div id=\"df-47594610-6d6d-475c-bdc2-8617a87f6513\">\n",
              "    <div class=\"colab-df-container\">\n",
              "      <div>\n",
              "<style scoped>\n",
              "    .dataframe tbody tr th:only-of-type {\n",
              "        vertical-align: middle;\n",
              "    }\n",
              "\n",
              "    .dataframe tbody tr th {\n",
              "        vertical-align: top;\n",
              "    }\n",
              "\n",
              "    .dataframe thead th {\n",
              "        text-align: right;\n",
              "    }\n",
              "</style>\n",
              "<table border=\"1\" class=\"dataframe\">\n",
              "  <thead>\n",
              "    <tr style=\"text-align: right;\">\n",
              "      <th></th>\n",
              "      <th>weathersit_2.0</th>\n",
              "      <th>weathersit_3.0</th>\n",
              "      <th>weathersit_4.0</th>\n",
              "    </tr>\n",
              "  </thead>\n",
              "  <tbody>\n",
              "    <tr>\n",
              "      <th>0</th>\n",
              "      <td>0</td>\n",
              "      <td>0</td>\n",
              "      <td>0</td>\n",
              "    </tr>\n",
              "    <tr>\n",
              "      <th>1</th>\n",
              "      <td>0</td>\n",
              "      <td>0</td>\n",
              "      <td>0</td>\n",
              "    </tr>\n",
              "    <tr>\n",
              "      <th>2</th>\n",
              "      <td>0</td>\n",
              "      <td>0</td>\n",
              "      <td>0</td>\n",
              "    </tr>\n",
              "    <tr>\n",
              "      <th>3</th>\n",
              "      <td>0</td>\n",
              "      <td>0</td>\n",
              "      <td>0</td>\n",
              "    </tr>\n",
              "    <tr>\n",
              "      <th>4</th>\n",
              "      <td>0</td>\n",
              "      <td>0</td>\n",
              "      <td>0</td>\n",
              "    </tr>\n",
              "  </tbody>\n",
              "</table>\n",
              "</div>\n",
              "      <button class=\"colab-df-convert\" onclick=\"convertToInteractive('df-47594610-6d6d-475c-bdc2-8617a87f6513')\"\n",
              "              title=\"Convert this dataframe to an interactive table.\"\n",
              "              style=\"display:none;\">\n",
              "        \n",
              "  <svg xmlns=\"http://www.w3.org/2000/svg\" height=\"24px\"viewBox=\"0 0 24 24\"\n",
              "       width=\"24px\">\n",
              "    <path d=\"M0 0h24v24H0V0z\" fill=\"none\"/>\n",
              "    <path d=\"M18.56 5.44l.94 2.06.94-2.06 2.06-.94-2.06-.94-.94-2.06-.94 2.06-2.06.94zm-11 1L8.5 8.5l.94-2.06 2.06-.94-2.06-.94L8.5 2.5l-.94 2.06-2.06.94zm10 10l.94 2.06.94-2.06 2.06-.94-2.06-.94-.94-2.06-.94 2.06-2.06.94z\"/><path d=\"M17.41 7.96l-1.37-1.37c-.4-.4-.92-.59-1.43-.59-.52 0-1.04.2-1.43.59L10.3 9.45l-7.72 7.72c-.78.78-.78 2.05 0 2.83L4 21.41c.39.39.9.59 1.41.59.51 0 1.02-.2 1.41-.59l7.78-7.78 2.81-2.81c.8-.78.8-2.07 0-2.86zM5.41 20L4 18.59l7.72-7.72 1.47 1.35L5.41 20z\"/>\n",
              "  </svg>\n",
              "      </button>\n",
              "      \n",
              "  <style>\n",
              "    .colab-df-container {\n",
              "      display:flex;\n",
              "      flex-wrap:wrap;\n",
              "      gap: 12px;\n",
              "    }\n",
              "\n",
              "    .colab-df-convert {\n",
              "      background-color: #E8F0FE;\n",
              "      border: none;\n",
              "      border-radius: 50%;\n",
              "      cursor: pointer;\n",
              "      display: none;\n",
              "      fill: #1967D2;\n",
              "      height: 32px;\n",
              "      padding: 0 0 0 0;\n",
              "      width: 32px;\n",
              "    }\n",
              "\n",
              "    .colab-df-convert:hover {\n",
              "      background-color: #E2EBFA;\n",
              "      box-shadow: 0px 1px 2px rgba(60, 64, 67, 0.3), 0px 1px 3px 1px rgba(60, 64, 67, 0.15);\n",
              "      fill: #174EA6;\n",
              "    }\n",
              "\n",
              "    [theme=dark] .colab-df-convert {\n",
              "      background-color: #3B4455;\n",
              "      fill: #D2E3FC;\n",
              "    }\n",
              "\n",
              "    [theme=dark] .colab-df-convert:hover {\n",
              "      background-color: #434B5C;\n",
              "      box-shadow: 0px 1px 3px 1px rgba(0, 0, 0, 0.15);\n",
              "      filter: drop-shadow(0px 1px 2px rgba(0, 0, 0, 0.3));\n",
              "      fill: #FFFFFF;\n",
              "    }\n",
              "  </style>\n",
              "\n",
              "      <script>\n",
              "        const buttonEl =\n",
              "          document.querySelector('#df-47594610-6d6d-475c-bdc2-8617a87f6513 button.colab-df-convert');\n",
              "        buttonEl.style.display =\n",
              "          google.colab.kernel.accessAllowed ? 'block' : 'none';\n",
              "\n",
              "        async function convertToInteractive(key) {\n",
              "          const element = document.querySelector('#df-47594610-6d6d-475c-bdc2-8617a87f6513');\n",
              "          const dataTable =\n",
              "            await google.colab.kernel.invokeFunction('convertToInteractive',\n",
              "                                                     [key], {});\n",
              "          if (!dataTable) return;\n",
              "\n",
              "          const docLinkHtml = 'Like what you see? Visit the ' +\n",
              "            '<a target=\"_blank\" href=https://colab.research.google.com/notebooks/data_table.ipynb>data table notebook</a>'\n",
              "            + ' to learn more about interactive tables.';\n",
              "          element.innerHTML = '';\n",
              "          dataTable['output_type'] = 'display_data';\n",
              "          await google.colab.output.renderOutput(dataTable, element);\n",
              "          const docLink = document.createElement('div');\n",
              "          docLink.innerHTML = docLinkHtml;\n",
              "          element.appendChild(docLink);\n",
              "        }\n",
              "      </script>\n",
              "    </div>\n",
              "  </div>\n",
              "  "
            ],
            "text/plain": [
              "   weathersit_2.0  weathersit_3.0  weathersit_4.0\n",
              "0               0               0               0\n",
              "1               0               0               0\n",
              "2               0               0               0\n",
              "3               0               0               0\n",
              "4               0               0               0"
            ]
          },
          "metadata": {},
          "execution_count": 21
        }
      ]
    },
    {
      "metadata": {
        "_uuid": "2f8fbf209225d6df80dc03fc59501ee445ae6b45",
        "id": "1_xXwpIw3-Cm"
      },
      "cell_type": "markdown",
      "source": [
        "#### Trying a Nonlinear Model\n",
        "As a final modeling experiment, let’s run our dummied data into a “Gradient Boosting Regressor” model from sklearn. Switching from one model to another in the sklearn package is trivial, and we only need to load the appropriate model in memory and change two lines"
      ]
    },
    {
      "metadata": {
        "trusted": true,
        "_uuid": "02a53f239ce4ee5d92b79bdd276c7896a5d590b9",
        "colab": {
          "base_uri": "https://localhost:8080/"
        },
        "id": "vZZkssSA3-Cm",
        "outputId": "04205987-fb59-4549-ea16-ca8c6f28aa6d"
      },
      "cell_type": "code",
      "source": [
        "# simple approach - make a copy for editing without affecting original\n",
        "bike_df_model_ready = bikes_hour_df.copy()\n",
        "bike_df_model_ready = bike_df_model_ready.sort_values('instant')\n",
        "\n",
        "# dummify categorical columns\n",
        "bike_df_model_ready = prepare_data_for_model(bike_df_model_ready, \n",
        "                                             target_columns = ['season', 'weekday', 'weathersit'])\n",
        "list(bike_df_model_ready.head(1).values)\n",
        "\n",
        "# remove the nan colums in dataframe as most are outcome variable and we can't use them\n",
        "bike_df_model_ready = bike_df_model_ready.dropna() \n",
        "\n",
        "\n",
        "outcome = 'cnt'\n",
        "features = [feat for feat in list(bike_df_model_ready) if feat not in [outcome, 'instant', 'dteday']]  \n",
        "\n",
        " \n",
        "X_train, X_test, y_train, y_test = train_test_split(bike_df_model_ready[features], \n",
        "                                                 bike_df_model_ready[['cnt']], \n",
        "                                                 test_size=0.5, \n",
        "                                                 random_state=42)\n",
        " \n",
        "from sklearn.ensemble import GradientBoostingRegressor\n",
        "model_gbr = GradientBoostingRegressor()\n",
        "model_gbr.fit(X_train, np.ravel(y_train))\n",
        "predictions = model_gbr.predict(X_test)\n",
        "\n",
        "# root mean squared error\n",
        "print(\"Root Mean squared error: %.2f\" % sqrt(mean_squared_error(y_test, predictions)))\n",
        " "
      ],
      "execution_count": 22,
      "outputs": [
        {
          "output_type": "stream",
          "name": "stdout",
          "text": [
            "Root Mean squared error: 68.14\n"
          ]
        }
      ]
    },
    {
      "metadata": {
        "_uuid": "4f038d4001b5c2ac9e8741bc6b71e3a1ff407e5c",
        "id": "Fat2I7I23-Cn"
      },
      "cell_type": "markdown",
      "source": [
        "## Even More Complex Feature Engineering—Leveraging Time-Series\n",
        "\n",
        "Info - Here is one last feature engineering experiment; this idea comes from data scientists over at Microsoft.4 The data is a ledger of bike rentals over time, so it is a time-series dataset. Whenever your dataset records events over time, you want to take that into account as an added feature. For example, an event that happened an hour ago is probably more important than one that happened a year ago. Time can also capture trends, changing needs and perceptions, etc. We want to create features that capture all those time-evolving elements!\n",
        "\n",
        "For each row of data, we’ll add two new features: the sum of bicycle rentals for the previous hour, and the sum of bicycle rentals from two hours ago. The intuition here is that if we want to understand the current bicycling mood, we can start by looking at what happened an hour ago. If the rentals were great one hour ago, they’re probably going\n",
        "to be good now. This time element can be seen as a proxy to prosperous or calamitous times, good or bad weather, etc.\n",
        "To create a sum of bicycles per date and hour, we use Pandas extremely powerful “groupby()” function. We extract three fields, “dteday,” “hr,” and “cnt” and group the count by date and hour "
      ]
    },
    {
      "metadata": {
        "trusted": true,
        "_uuid": "3b71e44c9fc98861d6930ac330a5e01ce86bbea8",
        "colab": {
          "base_uri": "https://localhost:8080/"
        },
        "id": "-AmR703P3-Cn",
        "outputId": "8284831a-e230-4d38-b8b4-999b0135e389"
      },
      "cell_type": "code",
      "source": [
        "\n",
        "# prior hours\n",
        "bikes_hour_df_shift = bikes_hour_df[['dteday','hr','cnt']].groupby(['dteday','hr']).sum().reset_index()\n",
        "bikes_hour_df_shift.sort_values(['dteday','hr'])\n",
        "# shift the count of the last two hours forward so the new count can take in consideratio how the last two hours went \n",
        "bikes_hour_df_shift['sum_hr_shift_1'] = bikes_hour_df_shift.cnt.shift(+1)\n",
        "bikes_hour_df_shift['sum_hr_shift_2'] = bikes_hour_df_shift.cnt.shift(+2)\n",
        "\n",
        "bike_df_model_ready =  pd.merge(bikes_hour_df, bikes_hour_df_shift[['dteday', 'hr', 'sum_hr_shift_1', 'sum_hr_shift_2']], how='inner', on = ['dteday', 'hr'])\n",
        "\n",
        "# drop NAs caused by our shifting fields around\n",
        "bike_df_model_ready = bike_df_model_ready.dropna()\n",
        "\n",
        "outcome = 'cnt'\n",
        "# create a feature list for each modeling - experiment by adding features to the exclusion list\n",
        "features = [feat for feat in list(bike_df_model_ready) if feat not in [outcome, 'instant', 'dteday','casual', 'registered']]  \n",
        "\n",
        "# split data into train and test portions and model\n",
        "X_train, X_test, y_train, y_test = train_test_split(bike_df_model_ready[features], \n",
        "                                                 bike_df_model_ready[['cnt']], \n",
        "                                                 test_size=0.3, random_state=42)\n",
        "\n",
        "from sklearn.ensemble import GradientBoostingRegressor\n",
        "model_gbr = GradientBoostingRegressor()\n",
        "model_gbr.fit(X_train, np.ravel(y_train))\n",
        "predictions = model_gbr.predict(X_test)\n",
        "\n",
        "# root mean squared error\n",
        "print(\"Root Mean squared error: %.2f\" % sqrt(mean_squared_error(y_test, predictions)))"
      ],
      "execution_count": 23,
      "outputs": [
        {
          "output_type": "stream",
          "name": "stdout",
          "text": [
            "Root Mean squared error: 41.97\n"
          ]
        }
      ]
    },
    {
      "metadata": {
        "_uuid": "ae7e107ff4d065e6204054474d201f17145bf5af",
        "id": "aBIHX1Q43-Co"
      },
      "cell_type": "markdown",
      "source": [
        "Let's calculate the R^2 score of each feature to see how each helps us model bike demand (remember that an R^2 of 1 is perfect and an negative R^2 is bad):\n",
        "    "
      ]
    },
    {
      "metadata": {
        "trusted": true,
        "_uuid": "2ca9b2cfdee3f2ad4b40a8d52a5f457fe1a3b193",
        "colab": {
          "base_uri": "https://localhost:8080/"
        },
        "id": "DLjh0onJ3-Co",
        "outputId": "095147d5-91b0-4f33-fb9c-4900efe86f80"
      },
      "cell_type": "code",
      "source": [
        "# prior hours\n",
        "np.mean(bikes_hour_df_shift['sum_hr_shift_1'])"
      ],
      "execution_count": 24,
      "outputs": [
        {
          "output_type": "execute_result",
          "data": {
            "text/plain": [
              "189.47117044539073"
            ]
          },
          "metadata": {},
          "execution_count": 24
        }
      ]
    },
    {
      "metadata": {
        "trusted": true,
        "_uuid": "6527d0171f8e69fa231825d8d61bef3cb577dcb6",
        "colab": {
          "base_uri": "https://localhost:8080/"
        },
        "id": "2WFV0o-i3-Cp",
        "outputId": "dac442cd-ec5a-44f8-86f2-ecfee8e77387"
      },
      "cell_type": "code",
      "source": [
        " \n",
        "\n",
        "# loop through each feature and calculate the R^2 score\n",
        "features = ['hr', 'season', 'holiday', 'temp']\n",
        "from sklearn import linear_model\n",
        "from sklearn.metrics import r2_score\n",
        "\n",
        "# split data into train and test portions and model\n",
        "X_train, X_test, y_train, y_test = train_test_split(bike_df_model_ready[features], \n",
        "                                                 bike_df_model_ready[['cnt']], \n",
        "                                                 test_size=0.3, random_state=42)\n",
        "    \n",
        "for feat in features:\n",
        "    model_lr = linear_model.LinearRegression()\n",
        "    model_lr.fit(X_train[[feat]], y_train)\n",
        "    predictions = model_lr.predict(X_test[[feat]])\n",
        "    print('R^2 for %s is %f' % (feat, r2_score(y_test, predictions)))\n",
        "    "
      ],
      "execution_count": 25,
      "outputs": [
        {
          "output_type": "stream",
          "name": "stdout",
          "text": [
            "R^2 for hr is 0.159431\n",
            "R^2 for season is 0.025891\n",
            "R^2 for holiday is -0.001242\n",
            "R^2 for temp is 0.168313\n"
          ]
        }
      ]
    },
    {
      "metadata": {
        "_uuid": "9a8a3007dd90509c0e830f1a3462cb59439d2826",
        "id": "WGsKdkYD3-Cp"
      },
      "cell_type": "markdown",
      "source": [
        "Let's look at the coefficients from our model and what they mean:"
      ]
    },
    {
      "metadata": {
        "trusted": true,
        "_uuid": "9949f87ff98b5f26e3518882e7261d69c3fec967",
        "colab": {
          "base_uri": "https://localhost:8080/",
          "height": 244
        },
        "id": "BlWWm8-s3-Cp",
        "outputId": "58f50102-35b9-41b6-eeb6-4fc83e6a21b9"
      },
      "cell_type": "code",
      "source": [
        "# train the model on training set\n",
        "model_lr.fit(X_train, y_train)\n",
        "\n",
        "# make predictions using the testing set\n",
        "predictions = model_lr.predict(X_test)\n",
        " \n",
        "# root mean squared error\n",
        "print(\"Root Mean squared error: %.2f\" % sqrt(mean_squared_error(y_test, predictions)))\n",
        "print('\\n')\n",
        "print('Intercept: %f' % model_lr.intercept_)\n",
        "\n",
        "# features with coefficients \n",
        "feature_coefficients  = pd.DataFrame({'coefficients':model_lr.coef_[0], \n",
        "                                    'features':X_train.columns.values})\n",
        "\n",
        "feature_coefficients.sort_values('coefficients')"
      ],
      "execution_count": 26,
      "outputs": [
        {
          "output_type": "stream",
          "name": "stdout",
          "text": [
            "Root Mean squared error: 148.22\n",
            "\n",
            "\n",
            "Intercept: -103.609493\n"
          ]
        },
        {
          "output_type": "execute_result",
          "data": {
            "text/html": [
              "\n",
              "  <div id=\"df-ff8e01d6-5c0e-42dd-b26f-f90b68d1e6a3\">\n",
              "    <div class=\"colab-df-container\">\n",
              "      <div>\n",
              "<style scoped>\n",
              "    .dataframe tbody tr th:only-of-type {\n",
              "        vertical-align: middle;\n",
              "    }\n",
              "\n",
              "    .dataframe tbody tr th {\n",
              "        vertical-align: top;\n",
              "    }\n",
              "\n",
              "    .dataframe thead th {\n",
              "        text-align: right;\n",
              "    }\n",
              "</style>\n",
              "<table border=\"1\" class=\"dataframe\">\n",
              "  <thead>\n",
              "    <tr style=\"text-align: right;\">\n",
              "      <th></th>\n",
              "      <th>coefficients</th>\n",
              "      <th>features</th>\n",
              "    </tr>\n",
              "  </thead>\n",
              "  <tbody>\n",
              "    <tr>\n",
              "      <th>2</th>\n",
              "      <td>-28.296857</td>\n",
              "      <td>holiday</td>\n",
              "    </tr>\n",
              "    <tr>\n",
              "      <th>0</th>\n",
              "      <td>9.149312</td>\n",
              "      <td>hr</td>\n",
              "    </tr>\n",
              "    <tr>\n",
              "      <th>1</th>\n",
              "      <td>13.988868</td>\n",
              "      <td>season</td>\n",
              "    </tr>\n",
              "    <tr>\n",
              "      <th>3</th>\n",
              "      <td>311.148592</td>\n",
              "      <td>temp</td>\n",
              "    </tr>\n",
              "  </tbody>\n",
              "</table>\n",
              "</div>\n",
              "      <button class=\"colab-df-convert\" onclick=\"convertToInteractive('df-ff8e01d6-5c0e-42dd-b26f-f90b68d1e6a3')\"\n",
              "              title=\"Convert this dataframe to an interactive table.\"\n",
              "              style=\"display:none;\">\n",
              "        \n",
              "  <svg xmlns=\"http://www.w3.org/2000/svg\" height=\"24px\"viewBox=\"0 0 24 24\"\n",
              "       width=\"24px\">\n",
              "    <path d=\"M0 0h24v24H0V0z\" fill=\"none\"/>\n",
              "    <path d=\"M18.56 5.44l.94 2.06.94-2.06 2.06-.94-2.06-.94-.94-2.06-.94 2.06-2.06.94zm-11 1L8.5 8.5l.94-2.06 2.06-.94-2.06-.94L8.5 2.5l-.94 2.06-2.06.94zm10 10l.94 2.06.94-2.06 2.06-.94-2.06-.94-.94-2.06-.94 2.06-2.06.94z\"/><path d=\"M17.41 7.96l-1.37-1.37c-.4-.4-.92-.59-1.43-.59-.52 0-1.04.2-1.43.59L10.3 9.45l-7.72 7.72c-.78.78-.78 2.05 0 2.83L4 21.41c.39.39.9.59 1.41.59.51 0 1.02-.2 1.41-.59l7.78-7.78 2.81-2.81c.8-.78.8-2.07 0-2.86zM5.41 20L4 18.59l7.72-7.72 1.47 1.35L5.41 20z\"/>\n",
              "  </svg>\n",
              "      </button>\n",
              "      \n",
              "  <style>\n",
              "    .colab-df-container {\n",
              "      display:flex;\n",
              "      flex-wrap:wrap;\n",
              "      gap: 12px;\n",
              "    }\n",
              "\n",
              "    .colab-df-convert {\n",
              "      background-color: #E8F0FE;\n",
              "      border: none;\n",
              "      border-radius: 50%;\n",
              "      cursor: pointer;\n",
              "      display: none;\n",
              "      fill: #1967D2;\n",
              "      height: 32px;\n",
              "      padding: 0 0 0 0;\n",
              "      width: 32px;\n",
              "    }\n",
              "\n",
              "    .colab-df-convert:hover {\n",
              "      background-color: #E2EBFA;\n",
              "      box-shadow: 0px 1px 2px rgba(60, 64, 67, 0.3), 0px 1px 3px 1px rgba(60, 64, 67, 0.15);\n",
              "      fill: #174EA6;\n",
              "    }\n",
              "\n",
              "    [theme=dark] .colab-df-convert {\n",
              "      background-color: #3B4455;\n",
              "      fill: #D2E3FC;\n",
              "    }\n",
              "\n",
              "    [theme=dark] .colab-df-convert:hover {\n",
              "      background-color: #434B5C;\n",
              "      box-shadow: 0px 1px 3px 1px rgba(0, 0, 0, 0.15);\n",
              "      filter: drop-shadow(0px 1px 2px rgba(0, 0, 0, 0.3));\n",
              "      fill: #FFFFFF;\n",
              "    }\n",
              "  </style>\n",
              "\n",
              "      <script>\n",
              "        const buttonEl =\n",
              "          document.querySelector('#df-ff8e01d6-5c0e-42dd-b26f-f90b68d1e6a3 button.colab-df-convert');\n",
              "        buttonEl.style.display =\n",
              "          google.colab.kernel.accessAllowed ? 'block' : 'none';\n",
              "\n",
              "        async function convertToInteractive(key) {\n",
              "          const element = document.querySelector('#df-ff8e01d6-5c0e-42dd-b26f-f90b68d1e6a3');\n",
              "          const dataTable =\n",
              "            await google.colab.kernel.invokeFunction('convertToInteractive',\n",
              "                                                     [key], {});\n",
              "          if (!dataTable) return;\n",
              "\n",
              "          const docLinkHtml = 'Like what you see? Visit the ' +\n",
              "            '<a target=\"_blank\" href=https://colab.research.google.com/notebooks/data_table.ipynb>data table notebook</a>'\n",
              "            + ' to learn more about interactive tables.';\n",
              "          element.innerHTML = '';\n",
              "          dataTable['output_type'] = 'display_data';\n",
              "          await google.colab.output.renderOutput(dataTable, element);\n",
              "          const docLink = document.createElement('div');\n",
              "          docLink.innerHTML = docLinkHtml;\n",
              "          element.appendChild(docLink);\n",
              "        }\n",
              "      </script>\n",
              "    </div>\n",
              "  </div>\n",
              "  "
            ],
            "text/plain": [
              "   coefficients features\n",
              "2    -28.296857  holiday\n",
              "0      9.149312       hr\n",
              "1     13.988868   season\n",
              "3    311.148592     temp"
            ]
          },
          "metadata": {},
          "execution_count": 26
        }
      ]
    },
    {
      "metadata": {
        "_uuid": "e87ed9bd63fc6a8837b0a2cc8d23bbe2b2b4b51a",
        "id": "i1szLcyC3-Cq"
      },
      "cell_type": "markdown",
      "source": [
        "Set up constants for our coefficients"
      ]
    },
    {
      "metadata": {
        "trusted": true,
        "_uuid": "59d78ce8d7e4a51d3c4eea448fd0f12ce6744585",
        "id": "VkjArb1o3-Cq"
      },
      "cell_type": "code",
      "source": [
        "# set up constants for our coefficients \n",
        "INTERCEPT = -121.029547\n",
        "COEF_HOLIDAY = -23.426176   # day is holiday or not\n",
        "COEF_HOUR = 8.631624        # hour (0 to 23)\n",
        "COEF_SEASON_1 = 3.861149    # 1:springer\n",
        "COEF_SEASON_2 = -1.624812   # 2:summer\n",
        "COEF_SEASON_3 = -41.245562  # 3:fall\n",
        "COEF_SEASON_4 = 39.009224   # 4:winter\n",
        "COEF_TEMP = 426.900259      # norm temp in Celsius -8 to +39"
      ],
      "execution_count": 27,
      "outputs": []
    },
    {
      "metadata": {
        "_uuid": "9c05c13fc57b3693971e229bbb2f561a08bd2904",
        "id": "Am4bhHyo3-Cr"
      },
      "cell_type": "markdown",
      "source": [
        "# Predicting with coefficients - a lightweight way of getting estimates\n",
        "\n",
        "Now we can use the above coefficients and the regression equation:\n",
        "<B>y^ = b0 + bx1 + bxn</b>\n",
        "\n",
        "It is important to remember that an x unit change in one feature works to estimate y when all other values are held constant. This means we need to get the mean value of all our features to plug into our regresssion equation.\n",
        "\n"
      ]
    },
    {
      "metadata": {
        "trusted": true,
        "_uuid": "0da4dde2fde3243cd8f3862b94c849ea837c2015",
        "colab": {
          "base_uri": "https://localhost:8080/"
        },
        "id": "hKGTi3vJ3-Cr",
        "outputId": "c1cb0bc8-708e-4218-a1d7-ac2731e6c9ac"
      },
      "cell_type": "code",
      "source": [
        "np.mean(X_train['temp'])"
      ],
      "execution_count": 28,
      "outputs": [
        {
          "output_type": "execute_result",
          "data": {
            "text/plain": [
              "0.49786730247471817"
            ]
          },
          "metadata": {},
          "execution_count": 28
        }
      ]
    },
    {
      "metadata": {
        "trusted": true,
        "_uuid": "bdb81b3836f4578e79e9cab946800082d58dcc3e",
        "colab": {
          "base_uri": "https://localhost:8080/"
        },
        "id": "LQs1VuPC3-Cr",
        "outputId": "6e2c74c2-11b7-40f8-dba2-07e431c11c7b"
      },
      "cell_type": "code",
      "source": [
        "# mean values\n",
        "MEAN_HOLIDAY = 0.0275   # day is holiday or not\n",
        "MEAN_HOUR = 11.6        # hour (0 to 23)\n",
        "MEAN_SEASON_1 = 1       # 1:spring\n",
        "MEAN_SEASON_2 = 0       # 2:summer\n",
        "MEAN_SEASON_3 = 0       # 3:fall\n",
        "MEAN_SEASON_4 = 0       # 4:winter\n",
        "MEAN_TEMP = 0.4967      # norm temp in Celsius -8 to +39\n",
        "\n",
        "\n",
        "# try predicting something - 9AM with all other features held constant\n",
        "rental_counts = INTERCEPT + (MEAN_HOLIDAY * COEF_HOLIDAY) \\\n",
        "    + (9 * COEF_HOUR) \\\n",
        "    + (MEAN_SEASON_1 * COEF_SEASON_1)  + (MEAN_SEASON_2 * COEF_SEASON_2) \\\n",
        "    + (MEAN_SEASON_3 * COEF_SEASON_3)  + (MEAN_SEASON_4 * COEF_SEASON_4) \\\n",
        "    + (MEAN_TEMP * COEF_TEMP)\n",
        "\n",
        "print('Estimated bike rental count for selected parameters: %i' % int(rental_counts))    "
      ],
      "execution_count": 29,
      "outputs": [
        {
          "output_type": "stream",
          "name": "stdout",
          "text": [
            "Estimated bike rental count for selected parameters: 171\n"
          ]
        }
      ]
    },
    {
      "metadata": {
        "trusted": true,
        "_uuid": "25ba57554781e9239b32e916da7cf4f33d924f7b",
        "id": "OsYJiw233-Cs"
      },
      "cell_type": "code",
      "source": [
        ""
      ],
      "execution_count": 29,
      "outputs": []
    }
  ],
  "metadata": {
    "kernelspec": {
      "display_name": "Python 3",
      "language": "python",
      "name": "python3"
    },
    "language_info": {
      "codemirror_mode": {
        "name": "ipython",
        "version": 3
      },
      "file_extension": ".py",
      "mimetype": "text/x-python",
      "name": "python",
      "nbconvert_exporter": "python",
      "pygments_lexer": "ipython3",
      "version": "3.6.3"
    },
    "colab": {
      "name": "bike-sharing-rental-prediction.ipynb",
      "provenance": [],
      "collapsed_sections": [
        "Fat2I7I23-Cn"
      ]
    }
  },
  "nbformat": 4,
  "nbformat_minor": 0
}